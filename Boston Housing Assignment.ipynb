{
 "cells": [
  {
   "cell_type": "markdown",
   "metadata": {},
   "source": [
    "# Boston Housing Assignment"
   ]
  },
  {
   "cell_type": "markdown",
   "metadata": {},
   "source": [
    "## Loading and Setup"
   ]
  },
  {
   "cell_type": "code",
   "execution_count": 1,
   "metadata": {
    "collapsed": true
   },
   "outputs": [],
   "source": [
    "from sklearn import datasets\n",
    "import pandas as pd\n",
    "from sklearn.preprocessing import StandardScaler\n",
    "from sklearn.model_selection import train_test_split\n",
    "from sklearn.metrics import mean_squared_error\n",
    "from sklearn.metrics import r2_score\n",
    "from sklearn.linear_model import LinearRegression\n",
    "import math\n",
    "from sklearn.linear_model import Lasso"
   ]
  },
  {
   "cell_type": "code",
   "execution_count": 2,
   "metadata": {},
   "outputs": [
    {
     "name": "stdout",
     "output_type": "stream",
     "text": [
      "Boston House Prices dataset\n",
      "===========================\n",
      "\n",
      "Notes\n",
      "------\n",
      "Data Set Characteristics:  \n",
      "\n",
      "    :Number of Instances: 506 \n",
      "\n",
      "    :Number of Attributes: 13 numeric/categorical predictive\n",
      "    \n",
      "    :Median Value (attribute 14) is usually the target\n",
      "\n",
      "    :Attribute Information (in order):\n",
      "        - CRIM     per capita crime rate by town\n",
      "        - ZN       proportion of residential land zoned for lots over 25,000 sq.ft.\n",
      "        - INDUS    proportion of non-retail business acres per town\n",
      "        - CHAS     Charles River dummy variable (= 1 if tract bounds river; 0 otherwise)\n",
      "        - NOX      nitric oxides concentration (parts per 10 million)\n",
      "        - RM       average number of rooms per dwelling\n",
      "        - AGE      proportion of owner-occupied units built prior to 1940\n",
      "        - DIS      weighted distances to five Boston employment centres\n",
      "        - RAD      index of accessibility to radial highways\n",
      "        - TAX      full-value property-tax rate per $10,000\n",
      "        - PTRATIO  pupil-teacher ratio by town\n",
      "        - B        1000(Bk - 0.63)^2 where Bk is the proportion of blacks by town\n",
      "        - LSTAT    % lower status of the population\n",
      "        - MEDV     Median value of owner-occupied homes in $1000's\n",
      "\n",
      "    :Missing Attribute Values: None\n",
      "\n",
      "    :Creator: Harrison, D. and Rubinfeld, D.L.\n",
      "\n",
      "This is a copy of UCI ML housing dataset.\n",
      "http://archive.ics.uci.edu/ml/datasets/Housing\n",
      "\n",
      "\n",
      "This dataset was taken from the StatLib library which is maintained at Carnegie Mellon University.\n",
      "\n",
      "The Boston house-price data of Harrison, D. and Rubinfeld, D.L. 'Hedonic\n",
      "prices and the demand for clean air', J. Environ. Economics & Management,\n",
      "vol.5, 81-102, 1978.   Used in Belsley, Kuh & Welsch, 'Regression diagnostics\n",
      "...', Wiley, 1980.   N.B. Various transformations are used in the table on\n",
      "pages 244-261 of the latter.\n",
      "\n",
      "The Boston house-price data has been used in many machine learning papers that address regression\n",
      "problems.   \n",
      "     \n",
      "**References**\n",
      "\n",
      "   - Belsley, Kuh & Welsch, 'Regression diagnostics: Identifying Influential Data and Sources of Collinearity', Wiley, 1980. 244-261.\n",
      "   - Quinlan,R. (1993). Combining Instance-Based and Model-Based Learning. In Proceedings on the Tenth International Conference of Machine Learning, 236-243, University of Massachusetts, Amherst. Morgan Kaufmann.\n",
      "   - many more! (see http://archive.ics.uci.edu/ml/datasets/Housing)\n",
      "\n"
     ]
    }
   ],
   "source": [
    "bean = datasets.load_boston()\n",
    "print(bean.DESCR)"
   ]
  },
  {
   "cell_type": "markdown",
   "metadata": {},
   "source": [
    "### Train Set and Test Set Setup"
   ]
  },
  {
   "cell_type": "code",
   "execution_count": 3,
   "metadata": {
    "collapsed": true
   },
   "outputs": [],
   "source": [
    "def load_boston():\n",
    "    scaler = StandardScaler()\n",
    "    boston = datasets.load_boston()\n",
    "    X=boston.data\n",
    "    y=boston.target\n",
    "    X = scaler.fit_transform(X)\n",
    "    return train_test_split(X,y)"
   ]
  },
  {
   "cell_type": "code",
   "execution_count": 4,
   "metadata": {
    "collapsed": true
   },
   "outputs": [],
   "source": [
    "X_train, X_test, y_train, y_test = load_boston()"
   ]
  },
  {
   "cell_type": "code",
   "execution_count": 5,
   "metadata": {},
   "outputs": [
    {
     "data": {
      "text/plain": [
       "(379, 13)"
      ]
     },
     "execution_count": 5,
     "metadata": {},
     "output_type": "execute_result"
    }
   ],
   "source": [
    "X_train.shape"
   ]
  },
  {
   "cell_type": "markdown",
   "metadata": {},
   "source": [
    "## Linear Regression Implementation"
   ]
  },
  {
   "cell_type": "markdown",
   "metadata": {},
   "source": [
    "### Fitting a Linear Regression (LR)"
   ]
  },
  {
   "cell_type": "code",
   "execution_count": 6,
   "metadata": {},
   "outputs": [
    {
     "data": {
      "text/plain": [
       "LinearRegression(copy_X=True, fit_intercept=True, n_jobs=1, normalize=False)"
      ]
     },
     "execution_count": 6,
     "metadata": {},
     "output_type": "execute_result"
    }
   ],
   "source": [
    "clf = LinearRegression()\n",
    "clf.fit(X_train, y_train)"
   ]
  },
  {
   "cell_type": "markdown",
   "metadata": {},
   "source": [
    "### Making a Prediction using LR"
   ]
  },
  {
   "cell_type": "markdown",
   "metadata": {},
   "source": [
    "#### List of real value (y_test) and predicted value tuples. "
   ]
  },
  {
   "cell_type": "code",
   "execution_count": 7,
   "metadata": {
    "scrolled": true
   },
   "outputs": [
    {
     "data": {
      "text/plain": [
       "[(31.0, 34.762344723981386),\n",
       " (20.399999999999999, 19.627296134332145),\n",
       " (23.100000000000001, 11.036568572698242),\n",
       " (20.800000000000001, 18.675628021705077),\n",
       " (26.600000000000001, 22.304919100135262),\n",
       " (18.5, 19.425833322241179),\n",
       " (24.399999999999999, 24.02960151562683),\n",
       " (12.300000000000001, 12.304071870815577),\n",
       " (21.399999999999999, 24.473659304425873),\n",
       " (23.800000000000001, 27.085040294276119),\n",
       " (23.899999999999999, 28.053076417236994),\n",
       " (15.199999999999999, 11.838679451449282),\n",
       " (15.4, 14.978784325635196),\n",
       " (15.6, 16.671788285879416),\n",
       " (33.399999999999999, 35.475834864557044),\n",
       " (23.699999999999999, 9.1358977919039681),\n",
       " (11.9, 22.531757786962437),\n",
       " (20.300000000000001, 22.559947031797616),\n",
       " (27.5, 24.557526609992529),\n",
       " (37.0, 30.76656891550013),\n",
       " (28.100000000000001, 24.876902226527893),\n",
       " (22.0, 28.716039635550018),\n",
       " (23.300000000000001, 26.801967139034264),\n",
       " (13.1, 20.057198356161638),\n",
       " (24.800000000000001, 31.028917105366538),\n",
       " (20.199999999999999, 15.762927780327113),\n",
       " (10.5, 4.8212957504515614),\n",
       " (10.9, 13.840244153762788),\n",
       " (20.600000000000001, 21.015658728274595),\n",
       " (13.1, 14.769147270677912),\n",
       " (44.0, 37.53224448965949),\n",
       " (21.699999999999999, 21.244353804364888),\n",
       " (16.600000000000001, 15.454870440532636),\n",
       " (24.300000000000001, 19.963287475820962),\n",
       " (28.699999999999999, 28.781011035820452),\n",
       " (50.0, 43.703704439897919),\n",
       " (23.600000000000001, 29.194222682016715),\n",
       " (22.600000000000001, 26.42709596289567),\n",
       " (19.899999999999999, 19.121338693450955),\n",
       " (27.100000000000001, 19.642665189754172),\n",
       " (20.100000000000001, 21.286636619075779),\n",
       " (14.9, 17.183422709532987),\n",
       " (15.6, 15.549528854030072),\n",
       " (19.600000000000001, 19.136248008488522),\n",
       " (14.5, 18.087697843386948),\n",
       " (14.199999999999999, 18.122812736972858),\n",
       " (24.0, 30.412060375913672),\n",
       " (22.600000000000001, 23.994821219030708),\n",
       " (20.899999999999999, 21.49403703364483),\n",
       " (27.5, 19.498876742982052),\n",
       " (29.600000000000001, 24.397468408491587),\n",
       " (23.399999999999999, 23.571770829665446),\n",
       " (8.5, 5.7852567573040474),\n",
       " (20.0, 22.041670659044428),\n",
       " (31.5, 31.054421091228782),\n",
       " (14.5, 13.459245877233634),\n",
       " (50.0, 34.307695842343875),\n",
       " (22.600000000000001, 19.339757799860287),\n",
       " (36.399999999999999, 33.11578867722946),\n",
       " (17.399999999999999, 23.056517466383358),\n",
       " (28.5, 33.104414334100497),\n",
       " (10.199999999999999, 5.2114950807654381),\n",
       " (19.5, 18.144312317104294),\n",
       " (38.700000000000003, 36.097489277006638),\n",
       " (18.399999999999999, 15.880080585842094),\n",
       " (23.0, 20.466520842972511),\n",
       " (18.199999999999999, 14.148452401854518),\n",
       " (21.699999999999999, 20.516561754408361),\n",
       " (13.6, 13.832246725931157),\n",
       " (25.0, 24.266816248533104),\n",
       " (33.200000000000003, 32.267633212749452),\n",
       " (18.399999999999999, 18.690937773632481),\n",
       " (10.5, 11.895862335452039),\n",
       " (16.5, 22.446352597204459),\n",
       " (23.199999999999999, 25.34537772268461),\n",
       " (20.800000000000001, 23.10748127536489),\n",
       " (13.800000000000001, 16.0305116235198),\n",
       " (19.100000000000001, 16.472952886281778),\n",
       " (12.699999999999999, 12.970014431109284),\n",
       " (19.199999999999999, 20.315000734082364),\n",
       " (13.1, 14.57972159903872),\n",
       " (37.600000000000001, 38.20218832770972),\n",
       " (19.5, 19.73660067579053),\n",
       " (32.5, 31.382485667713517),\n",
       " (36.200000000000003, 27.468637665476926),\n",
       " (13.800000000000001, -1.1813552600913866),\n",
       " (25.100000000000001, 29.380416337214349),\n",
       " (25.0, 23.235961901497216),\n",
       " (13.4, 13.155898586791537),\n",
       " (48.799999999999997, 41.684604145856184),\n",
       " (17.100000000000001, 16.967959253688861),\n",
       " (30.300000000000001, 32.700788609523848),\n",
       " (50.0, 35.924336545894555),\n",
       " (10.4, 5.9565347219862339),\n",
       " (11.800000000000001, 13.065470661283609),\n",
       " (50.0, 40.873614259359073),\n",
       " (18.300000000000001, 18.843765324378033),\n",
       " (23.800000000000001, 23.65178528723829),\n",
       " (19.100000000000001, 24.878490678461795),\n",
       " (32.700000000000003, 30.681710564543586),\n",
       " (23.800000000000001, 25.818022727265287),\n",
       " (17.5, 16.740489673389899),\n",
       " (22.800000000000001, 26.670352595942397),\n",
       " (22.699999999999999, 25.270977993427955),\n",
       " (14.1, 18.565956771090615),\n",
       " (13.800000000000001, 20.033230496077568),\n",
       " (27.899999999999999, 20.014648828798862),\n",
       " (36.0, 37.095510709694153),\n",
       " (13.4, 16.922412903058387),\n",
       " (9.6999999999999993, 8.9864636938252769),\n",
       " (20.600000000000001, 19.024121415892161),\n",
       " (16.300000000000001, 11.141793867567491),\n",
       " (14.1, 16.069715050337312),\n",
       " (21.699999999999999, 24.42143766576114),\n",
       " (21.699999999999999, 22.265235883449741),\n",
       " (19.899999999999999, 19.269302097238366),\n",
       " (23.100000000000001, 15.881313653730189),\n",
       " (32.0, 33.186188575966028),\n",
       " (23.899999999999999, 27.141884430072306),\n",
       " (16.5, 10.968513787390858),\n",
       " (27.899999999999999, 31.353590191239441),\n",
       " (29.100000000000001, 29.953967009657966),\n",
       " (14.4, 2.6717024120968453),\n",
       " (16.100000000000001, 18.423372248471239),\n",
       " (8.8000000000000007, 5.13009788841741),\n",
       " (12.0, 10.628667977619287),\n",
       " (21.199999999999999, 23.291074376410144)]"
      ]
     },
     "execution_count": 7,
     "metadata": {},
     "output_type": "execute_result"
    }
   ],
   "source": [
    "list(zip (y_test, clf.predict(X_test)))"
   ]
  },
  {
   "cell_type": "markdown",
   "metadata": {},
   "source": [
    "#### MSE using our known test y values and our predicted y values."
   ]
  },
  {
   "cell_type": "code",
   "execution_count": 8,
   "metadata": {},
   "outputs": [
    {
     "name": "stdout",
     "output_type": "stream",
     "text": [
      "22.5481023847\n"
     ]
    }
   ],
   "source": [
    "y_hat = clf.predict(X_test)\n",
    "mse = mean_squared_error(y_test, y_hat)\n",
    "print(mse)"
   ]
  },
  {
   "cell_type": "markdown",
   "metadata": {},
   "source": [
    "#### RMSE using our MSE value"
   ]
  },
  {
   "cell_type": "code",
   "execution_count": 9,
   "metadata": {},
   "outputs": [
    {
     "name": "stdout",
     "output_type": "stream",
     "text": [
      "4.74848421969151\n"
     ]
    }
   ],
   "source": [
    "rmse = math.sqrt(mse)\n",
    "print(rmse)"
   ]
  },
  {
   "cell_type": "markdown",
   "metadata": {},
   "source": [
    "#### R^2 using our known test y values and our predicted y values."
   ]
  },
  {
   "cell_type": "code",
   "execution_count": 10,
   "metadata": {},
   "outputs": [
    {
     "name": "stdout",
     "output_type": "stream",
     "text": [
      "0.720629675555\n"
     ]
    }
   ],
   "source": [
    "r2 = r2_score(y_test, y_hat)\n",
    "print(r2)"
   ]
  },
  {
   "cell_type": "markdown",
   "metadata": {},
   "source": [
    "## Lasso Implementation"
   ]
  },
  {
   "cell_type": "markdown",
   "metadata": {},
   "source": [
    "### Fitting a Lasso"
   ]
  },
  {
   "cell_type": "code",
   "execution_count": 11,
   "metadata": {},
   "outputs": [
    {
     "data": {
      "text/plain": [
       "Lasso(alpha=1.0, copy_X=True, fit_intercept=True, max_iter=1000,\n",
       "   normalize=False, positive=False, precompute=False, random_state=None,\n",
       "   selection='cyclic', tol=0.0001, warm_start=False)"
      ]
     },
     "execution_count": 11,
     "metadata": {},
     "output_type": "execute_result"
    }
   ],
   "source": [
    "clf2 = Lasso()\n",
    "clf2.fit(X_train, y_train)"
   ]
  },
  {
   "cell_type": "markdown",
   "metadata": {},
   "source": [
    "### Making a Prediction using Lasso"
   ]
  },
  {
   "cell_type": "markdown",
   "metadata": {},
   "source": [
    "#### List of real value (y_test) and predicted value tuples. "
   ]
  },
  {
   "cell_type": "code",
   "execution_count": 12,
   "metadata": {
    "scrolled": false
   },
   "outputs": [
    {
     "data": {
      "text/plain": [
       "[(31.0, 30.66170901411698),\n",
       " (20.399999999999999, 21.857107246601007),\n",
       " (23.100000000000001, 11.829074486533187),\n",
       " (20.800000000000001, 19.141091759666473),\n",
       " (26.600000000000001, 27.701142403892106),\n",
       " (18.5, 19.993509382453219),\n",
       " (24.399999999999999, 26.397295056483856),\n",
       " (12.300000000000001, 11.963842244553382),\n",
       " (21.399999999999999, 22.965920901337295),\n",
       " (23.800000000000001, 25.849678402867006),\n",
       " (23.899999999999999, 27.120147212858871),\n",
       " (15.199999999999999, 15.296566710501525),\n",
       " (15.4, 17.549831097939659),\n",
       " (15.6, 20.261021744380155),\n",
       " (33.399999999999999, 30.043858902093927),\n",
       " (23.699999999999999, 9.9135150051294314),\n",
       " (11.9, 22.365931165264726),\n",
       " (20.300000000000001, 20.063077184291753),\n",
       " (27.5, 24.209656587620724),\n",
       " (37.0, 31.131898728446828),\n",
       " (28.100000000000001, 24.425117008431556),\n",
       " (22.0, 26.809231965009374),\n",
       " (23.300000000000001, 28.570838059618811),\n",
       " (13.1, 19.548124592109964),\n",
       " (24.800000000000001, 30.570837274822139),\n",
       " (20.199999999999999, 18.15620725336268),\n",
       " (10.5, 6.7016194362574328),\n",
       " (10.9, 19.946273248405717),\n",
       " (20.600000000000001, 20.493651646425469),\n",
       " (13.1, 15.655271496994587),\n",
       " (44.0, 33.631485521714396),\n",
       " (21.699999999999999, 22.209693689506199),\n",
       " (16.600000000000001, 17.806522603133899),\n",
       " (24.300000000000001, 23.215283352034223),\n",
       " (28.699999999999999, 26.704025441383124),\n",
       " (50.0, 36.873286931634567),\n",
       " (23.600000000000001, 26.077477498199393),\n",
       " (22.600000000000001, 23.666887191999219),\n",
       " (19.899999999999999, 20.3082112705913),\n",
       " (27.100000000000001, 20.618185930940893),\n",
       " (20.100000000000001, 20.538946637550762),\n",
       " (14.9, 19.392572843970406),\n",
       " (15.6, 17.416708641225632),\n",
       " (19.600000000000001, 21.244009242268454),\n",
       " (14.5, 18.80630267490757),\n",
       " (14.199999999999999, 18.574211059731368),\n",
       " (24.0, 29.722744786569958),\n",
       " (22.600000000000001, 26.488451451835289),\n",
       " (20.899999999999999, 24.072907902822038),\n",
       " (27.5, 19.537025669802119),\n",
       " (29.600000000000001, 22.081402262074782),\n",
       " (23.399999999999999, 24.538498685063438),\n",
       " (8.5, 10.480431140402322),\n",
       " (20.0, 20.933059500275476),\n",
       " (31.5, 28.915454822230505),\n",
       " (14.5, 15.065466936385874),\n",
       " (50.0, 29.244877191046964),\n",
       " (22.600000000000001, 20.609372431152735),\n",
       " (36.399999999999999, 33.187743526026154),\n",
       " (17.399999999999999, 22.38636873884542),\n",
       " (28.5, 29.121787552773284),\n",
       " (10.199999999999999, 6.2904750696760985),\n",
       " (19.5, 17.117131994665478),\n",
       " (38.700000000000003, 33.959490709207586),\n",
       " (18.399999999999999, 17.589792260494544),\n",
       " (23.0, 21.763690044747626),\n",
       " (18.199999999999999, 20.241959107997701),\n",
       " (21.699999999999999, 21.418037954821045),\n",
       " (13.6, 17.272493243615465),\n",
       " (25.0, 23.653591048748773),\n",
       " (33.200000000000003, 30.443252877261354),\n",
       " (18.399999999999999, 18.890816337257572),\n",
       " (10.5, 14.404553908701887),\n",
       " (16.5, 27.213004190399989),\n",
       " (23.199999999999999, 24.015799762099036),\n",
       " (20.800000000000001, 22.998020260930019),\n",
       " (13.800000000000001, 15.08643972962912),\n",
       " (19.100000000000001, 15.52456592139689),\n",
       " (12.699999999999999, 16.672322637787619),\n",
       " (19.199999999999999, 21.285646731373571),\n",
       " (13.1, 19.20337583140018),\n",
       " (37.600000000000001, 34.829260575497692),\n",
       " (19.5, 20.663538139713786),\n",
       " (32.5, 27.655625748392655),\n",
       " (36.200000000000003, 24.048069314199452),\n",
       " (13.800000000000001, -0.46235442354219813),\n",
       " (25.100000000000001, 26.086432276070603),\n",
       " (25.0, 24.318899332632636),\n",
       " (13.4, 16.814953495274736),\n",
       " (48.799999999999997, 37.560094570569888),\n",
       " (17.100000000000001, 18.007130438549272),\n",
       " (30.300000000000001, 31.52800536972422),\n",
       " (50.0, 33.069821986152448),\n",
       " (10.4, 10.030293508551138),\n",
       " (11.800000000000001, 15.794374317786689),\n",
       " (50.0, 36.367247327135338),\n",
       " (18.300000000000001, 19.302696881632805),\n",
       " (23.800000000000001, 23.63193010893238),\n",
       " (19.100000000000001, 23.702637037447996),\n",
       " (32.700000000000003, 31.80997633415253),\n",
       " (23.800000000000001, 25.329801907979459),\n",
       " (17.5, 18.54515377532833),\n",
       " (22.800000000000001, 25.802854445444105),\n",
       " (22.699999999999999, 23.816106269536508),\n",
       " (14.1, 19.514520275299571),\n",
       " (13.800000000000001, 19.561146976989171),\n",
       " (27.899999999999999, 19.013622006909696),\n",
       " (36.0, 32.554803415578903),\n",
       " (13.4, 20.416348900879523),\n",
       " (9.6999999999999993, 9.5455344806806544),\n",
       " (20.600000000000001, 19.344493344364636),\n",
       " (16.300000000000001, 13.018836762400632),\n",
       " (14.1, 19.204329296796033),\n",
       " (21.699999999999999, 24.212307648496942),\n",
       " (21.699999999999999, 17.892861689667036),\n",
       " (19.899999999999999, 21.312847841162629),\n",
       " (23.100000000000001, 16.94601594635288),\n",
       " (32.0, 29.644706317166509),\n",
       " (23.899999999999999, 26.243793282853034),\n",
       " (16.5, 12.763785500166453),\n",
       " (27.899999999999999, 27.515913274804902),\n",
       " (29.100000000000001, 26.667374157099225),\n",
       " (14.4, 4.104566496988209),\n",
       " (16.100000000000001, 18.815323291230012),\n",
       " (8.8000000000000007, 15.730725599602298),\n",
       " (12.0, 10.965604416534191),\n",
       " (21.199999999999999, 22.767659952252579)]"
      ]
     },
     "execution_count": 12,
     "metadata": {},
     "output_type": "execute_result"
    }
   ],
   "source": [
    "list(zip (y_test, clf2.predict(X_test)))"
   ]
  },
  {
   "cell_type": "markdown",
   "metadata": {},
   "source": [
    "#### MSE using our known test y values and our predicted y values."
   ]
  },
  {
   "cell_type": "code",
   "execution_count": 13,
   "metadata": {},
   "outputs": [
    {
     "name": "stdout",
     "output_type": "stream",
     "text": [
      "28.9410826274\n"
     ]
    }
   ],
   "source": [
    "y_hat2 = clf2.predict(X_test)\n",
    "mse2 = mean_squared_error(y_test, y_hat2)\n",
    "print(mse2)"
   ]
  },
  {
   "cell_type": "markdown",
   "metadata": {},
   "source": [
    "#### RMSE using our MSE2 value"
   ]
  },
  {
   "cell_type": "code",
   "execution_count": 14,
   "metadata": {},
   "outputs": [
    {
     "name": "stdout",
     "output_type": "stream",
     "text": [
      "5.379691685162526\n"
     ]
    }
   ],
   "source": [
    "rmse2 = math.sqrt(mse2)\n",
    "print(rmse2)"
   ]
  },
  {
   "cell_type": "markdown",
   "metadata": {},
   "source": [
    "#### R^2 using our known test y values and our predicted y values."
   ]
  },
  {
   "cell_type": "code",
   "execution_count": 15,
   "metadata": {},
   "outputs": [
    {
     "name": "stdout",
     "output_type": "stream",
     "text": [
      "0.641420838637\n"
     ]
    }
   ],
   "source": [
    "r2_2 = r2_score(y_test, y_hat2)\n",
    "print(r2_2)"
   ]
  },
  {
   "cell_type": "markdown",
   "metadata": {},
   "source": [
    "## Optimizing the Lasso Regularization Parameter"
   ]
  },
  {
   "cell_type": "markdown",
   "metadata": {},
   "source": [
    "### alpha = 0.1"
   ]
  },
  {
   "cell_type": "code",
   "execution_count": 16,
   "metadata": {},
   "outputs": [
    {
     "data": {
      "text/plain": [
       "Lasso(alpha=0.1, copy_X=True, fit_intercept=True, max_iter=1000,\n",
       "   normalize=False, positive=False, precompute=False, random_state=None,\n",
       "   selection='cyclic', tol=0.0001, warm_start=False)"
      ]
     },
     "execution_count": 16,
     "metadata": {},
     "output_type": "execute_result"
    }
   ],
   "source": [
    "reg = Lasso(alpha = 0.1)\n",
    "reg.fit(X_train, y_train)"
   ]
  },
  {
   "cell_type": "code",
   "execution_count": 17,
   "metadata": {},
   "outputs": [
    {
     "name": "stdout",
     "output_type": "stream",
     "text": [
      "23.3762092602\n"
     ]
    }
   ],
   "source": [
    "y_hat3 = reg.predict(X_test)\n",
    "mse3 = mean_squared_error(y_test, y_hat3)\n",
    "print(mse3)"
   ]
  },
  {
   "cell_type": "code",
   "execution_count": 18,
   "metadata": {},
   "outputs": [
    {
     "name": "stdout",
     "output_type": "stream",
     "text": [
      "4.83489495854982\n"
     ]
    }
   ],
   "source": [
    "rmse3 = math.sqrt(mse3)\n",
    "print(rmse3)"
   ]
  },
  {
   "cell_type": "code",
   "execution_count": 19,
   "metadata": {},
   "outputs": [
    {
     "name": "stdout",
     "output_type": "stream",
     "text": [
      "0.710369455757\n"
     ]
    }
   ],
   "source": [
    "r2_3 = r2_score(y_test, y_hat3)\n",
    "print(r2_3)"
   ]
  },
  {
   "cell_type": "markdown",
   "metadata": {},
   "source": [
    "### alpha = 0.01"
   ]
  },
  {
   "cell_type": "code",
   "execution_count": 20,
   "metadata": {},
   "outputs": [
    {
     "data": {
      "text/plain": [
       "Lasso(alpha=0.01, copy_X=True, fit_intercept=True, max_iter=1000,\n",
       "   normalize=False, positive=False, precompute=False, random_state=None,\n",
       "   selection='cyclic', tol=0.0001, warm_start=False)"
      ]
     },
     "execution_count": 20,
     "metadata": {},
     "output_type": "execute_result"
    }
   ],
   "source": [
    "reg = Lasso(alpha = 0.01)\n",
    "reg.fit(X_train, y_train)"
   ]
  },
  {
   "cell_type": "code",
   "execution_count": 21,
   "metadata": {
    "scrolled": true
   },
   "outputs": [
    {
     "name": "stdout",
     "output_type": "stream",
     "text": [
      "22.5473356677\n"
     ]
    }
   ],
   "source": [
    "y_hat3 = reg.predict(X_test)\n",
    "mse3 = mean_squared_error(y_test, y_hat3)\n",
    "print(mse3)"
   ]
  },
  {
   "cell_type": "code",
   "execution_count": 22,
   "metadata": {},
   "outputs": [
    {
     "name": "stdout",
     "output_type": "stream",
     "text": [
      "4.748403486192937\n"
     ]
    }
   ],
   "source": [
    "rmse3 = math.sqrt(mse3)\n",
    "print(rmse3)"
   ]
  },
  {
   "cell_type": "code",
   "execution_count": 23,
   "metadata": {},
   "outputs": [
    {
     "name": "stdout",
     "output_type": "stream",
     "text": [
      "0.720639175156\n"
     ]
    }
   ],
   "source": [
    "r2_3 = r2_score(y_test, y_hat3)\n",
    "print(r2_3)"
   ]
  },
  {
   "cell_type": "markdown",
   "metadata": {},
   "source": [
    "### alpha = 0.001"
   ]
  },
  {
   "cell_type": "code",
   "execution_count": 24,
   "metadata": {},
   "outputs": [
    {
     "data": {
      "text/plain": [
       "Lasso(alpha=0.001, copy_X=True, fit_intercept=True, max_iter=1000,\n",
       "   normalize=False, positive=False, precompute=False, random_state=None,\n",
       "   selection='cyclic', tol=0.0001, warm_start=False)"
      ]
     },
     "execution_count": 24,
     "metadata": {},
     "output_type": "execute_result"
    }
   ],
   "source": [
    "reg = Lasso(alpha = 0.001)\n",
    "reg.fit(X_train, y_train)"
   ]
  },
  {
   "cell_type": "code",
   "execution_count": 25,
   "metadata": {},
   "outputs": [
    {
     "name": "stdout",
     "output_type": "stream",
     "text": [
      "22.547259982\n"
     ]
    }
   ],
   "source": [
    "y_hat3 = reg.predict(X_test)\n",
    "mse3 = mean_squared_error(y_test, y_hat3)\n",
    "print(mse3)"
   ]
  },
  {
   "cell_type": "code",
   "execution_count": 26,
   "metadata": {},
   "outputs": [
    {
     "name": "stdout",
     "output_type": "stream",
     "text": [
      "4.748395516591567\n"
     ]
    }
   ],
   "source": [
    "rmse3 = math.sqrt(mse3)\n",
    "print(rmse3)"
   ]
  },
  {
   "cell_type": "code",
   "execution_count": 27,
   "metadata": {},
   "outputs": [
    {
     "name": "stdout",
     "output_type": "stream",
     "text": [
      "0.720640112899\n"
     ]
    }
   ],
   "source": [
    "r2_3 = r2_score(y_test, y_hat3)\n",
    "print(r2_3)"
   ]
  },
  {
   "cell_type": "markdown",
   "metadata": {},
   "source": [
    "### alpha = 0.0001"
   ]
  },
  {
   "cell_type": "code",
   "execution_count": 32,
   "metadata": {},
   "outputs": [
    {
     "data": {
      "text/plain": [
       "Lasso(alpha=0.0001, copy_X=True, fit_intercept=True, max_iter=1000,\n",
       "   normalize=False, positive=False, precompute=False, random_state=None,\n",
       "   selection='cyclic', tol=0.0001, warm_start=False)"
      ]
     },
     "execution_count": 32,
     "metadata": {},
     "output_type": "execute_result"
    }
   ],
   "source": [
    "reg = Lasso(alpha = 0.0001)\n",
    "reg.fit(X_train, y_train)"
   ]
  },
  {
   "cell_type": "code",
   "execution_count": 33,
   "metadata": {},
   "outputs": [
    {
     "name": "stdout",
     "output_type": "stream",
     "text": [
      "22.5480097149\n"
     ]
    }
   ],
   "source": [
    "y_hat3 = reg.predict(X_test)\n",
    "mse3 = mean_squared_error(y_test, y_hat3)\n",
    "print(mse3)"
   ]
  },
  {
   "cell_type": "code",
   "execution_count": 34,
   "metadata": {},
   "outputs": [
    {
     "name": "stdout",
     "output_type": "stream",
     "text": [
      "4.748474461859075\n"
     ]
    }
   ],
   "source": [
    "rmse3 = math.sqrt(mse3)\n",
    "print(rmse3)"
   ]
  },
  {
   "cell_type": "code",
   "execution_count": 35,
   "metadata": {},
   "outputs": [
    {
     "name": "stdout",
     "output_type": "stream",
     "text": [
      "0.72063082373\n"
     ]
    }
   ],
   "source": [
    "r2_3 = r2_score(y_test, y_hat3)\n",
    "print(r2_3)"
   ]
  },
  {
   "cell_type": "markdown",
   "metadata": {},
   "source": [
    "### alpha = 0.001 seems to be the best"
   ]
  },
  {
   "cell_type": "code",
   "execution_count": null,
   "metadata": {
    "collapsed": true
   },
   "outputs": [],
   "source": []
  }
 ],
 "metadata": {
  "kernelspec": {
   "display_name": "Python 3",
   "language": "python",
   "name": "python3"
  },
  "language_info": {
   "codemirror_mode": {
    "name": "ipython",
    "version": 3
   },
   "file_extension": ".py",
   "mimetype": "text/x-python",
   "name": "python",
   "nbconvert_exporter": "python",
   "pygments_lexer": "ipython3",
   "version": "3.6.1"
  }
 },
 "nbformat": 4,
 "nbformat_minor": 2
}
