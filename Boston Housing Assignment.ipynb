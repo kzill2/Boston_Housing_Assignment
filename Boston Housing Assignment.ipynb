{
 "cells": [
  {
   "cell_type": "markdown",
   "metadata": {},
   "source": [
    "# Boston Housing Assignment"
   ]
  },
  {
   "cell_type": "markdown",
   "metadata": {},
   "source": [
    "## Loading and Setup"
   ]
  },
  {
   "cell_type": "code",
   "execution_count": 3,
   "metadata": {
    "collapsed": true
   },
   "outputs": [],
   "source": [
    "from sklearn import datasets\n",
    "import pandas as pd\n",
    "from sklearn.preprocessing import StandardScaler\n",
    "from sklearn.model_selection import train_test_split\n",
    "from sklearn.metrics import mean_squared_error\n",
    "from sklearn.metrics import r2_score\n",
    "from sklearn.linear_model import LinearRegression\n",
    "import math\n",
    "from sklearn.linear_model import Lasso"
   ]
  },
  {
   "cell_type": "code",
   "execution_count": 62,
   "metadata": {},
   "outputs": [
    {
     "name": "stdout",
     "output_type": "stream",
     "text": [
      "Boston House Prices dataset\n",
      "===========================\n",
      "\n",
      "Notes\n",
      "------\n",
      "Data Set Characteristics:  \n",
      "\n",
      "    :Number of Instances: 506 \n",
      "\n",
      "    :Number of Attributes: 13 numeric/categorical predictive\n",
      "    \n",
      "    :Median Value (attribute 14) is usually the target\n",
      "\n",
      "    :Attribute Information (in order):\n",
      "        - CRIM     per capita crime rate by town\n",
      "        - ZN       proportion of residential land zoned for lots over 25,000 sq.ft.\n",
      "        - INDUS    proportion of non-retail business acres per town\n",
      "        - CHAS     Charles River dummy variable (= 1 if tract bounds river; 0 otherwise)\n",
      "        - NOX      nitric oxides concentration (parts per 10 million)\n",
      "        - RM       average number of rooms per dwelling\n",
      "        - AGE      proportion of owner-occupied units built prior to 1940\n",
      "        - DIS      weighted distances to five Boston employment centres\n",
      "        - RAD      index of accessibility to radial highways\n",
      "        - TAX      full-value property-tax rate per $10,000\n",
      "        - PTRATIO  pupil-teacher ratio by town\n",
      "        - B        1000(Bk - 0.63)^2 where Bk is the proportion of blacks by town\n",
      "        - LSTAT    % lower status of the population\n",
      "        - MEDV     Median value of owner-occupied homes in $1000's\n",
      "\n",
      "    :Missing Attribute Values: None\n",
      "\n",
      "    :Creator: Harrison, D. and Rubinfeld, D.L.\n",
      "\n",
      "This is a copy of UCI ML housing dataset.\n",
      "http://archive.ics.uci.edu/ml/datasets/Housing\n",
      "\n",
      "\n",
      "This dataset was taken from the StatLib library which is maintained at Carnegie Mellon University.\n",
      "\n",
      "The Boston house-price data of Harrison, D. and Rubinfeld, D.L. 'Hedonic\n",
      "prices and the demand for clean air', J. Environ. Economics & Management,\n",
      "vol.5, 81-102, 1978.   Used in Belsley, Kuh & Welsch, 'Regression diagnostics\n",
      "...', Wiley, 1980.   N.B. Various transformations are used in the table on\n",
      "pages 244-261 of the latter.\n",
      "\n",
      "The Boston house-price data has been used in many machine learning papers that address regression\n",
      "problems.   \n",
      "     \n",
      "**References**\n",
      "\n",
      "   - Belsley, Kuh & Welsch, 'Regression diagnostics: Identifying Influential Data and Sources of Collinearity', Wiley, 1980. 244-261.\n",
      "   - Quinlan,R. (1993). Combining Instance-Based and Model-Based Learning. In Proceedings on the Tenth International Conference of Machine Learning, 236-243, University of Massachusetts, Amherst. Morgan Kaufmann.\n",
      "   - many more! (see http://archive.ics.uci.edu/ml/datasets/Housing)\n",
      "\n"
     ]
    }
   ],
   "source": [
    "bean = datasets.load_boston()\n",
    "print(bean.DESCR)"
   ]
  },
  {
   "cell_type": "markdown",
   "metadata": {},
   "source": [
    "### Train Set and Test Set Setup"
   ]
  },
  {
   "cell_type": "code",
   "execution_count": 4,
   "metadata": {
    "collapsed": true
   },
   "outputs": [],
   "source": [
    "def load_boston():\n",
    "    scaler = StandardScaler()\n",
    "    boston = datasets.load_boston()\n",
    "    X=boston.data\n",
    "    y=boston.target\n",
    "    X = scaler.fit_transform(X)\n",
    "    return train_test_split(X,y)"
   ]
  },
  {
   "cell_type": "code",
   "execution_count": 5,
   "metadata": {
    "collapsed": true
   },
   "outputs": [],
   "source": [
    "X_train, X_test, y_train, y_test = load_boston()"
   ]
  },
  {
   "cell_type": "code",
   "execution_count": 6,
   "metadata": {},
   "outputs": [
    {
     "data": {
      "text/plain": [
       "(379, 13)"
      ]
     },
     "execution_count": 6,
     "metadata": {},
     "output_type": "execute_result"
    }
   ],
   "source": [
    "X_train.shape"
   ]
  },
  {
   "cell_type": "markdown",
   "metadata": {},
   "source": [
    "## Linear Regression Implementation"
   ]
  },
  {
   "cell_type": "markdown",
   "metadata": {},
   "source": [
    "### Fitting a Linear Regression (LR)"
   ]
  },
  {
   "cell_type": "code",
   "execution_count": 7,
   "metadata": {},
   "outputs": [
    {
     "data": {
      "text/plain": [
       "LinearRegression(copy_X=True, fit_intercept=True, n_jobs=1, normalize=False)"
      ]
     },
     "execution_count": 7,
     "metadata": {},
     "output_type": "execute_result"
    }
   ],
   "source": [
    "clf = LinearRegression()\n",
    "clf.fit(X_train, y_train)"
   ]
  },
  {
   "cell_type": "markdown",
   "metadata": {},
   "source": [
    "### Making a Prediction using LR"
   ]
  },
  {
   "cell_type": "markdown",
   "metadata": {},
   "source": [
    "#### List of real value (y_test) and predicted value tuples. "
   ]
  },
  {
   "cell_type": "code",
   "execution_count": 63,
   "metadata": {
    "scrolled": true
   },
   "outputs": [
    {
     "name": "stdout",
     "output_type": "stream",
     "text": [
      "[(22.0, 20.703568152043385), (18.100000000000001, 17.063915819921966), (18.5, 12.881266260595801), (50.0, 42.424650968691296), (33.299999999999997, 36.431523147981025), (29.399999999999999, 31.091188055760927), (25.0, 25.813306869512637), (19.5, 17.172729490705393), (10.5, 12.23170321363132), (32.899999999999999, 30.141566047417072), (20.100000000000001, 17.959930745665638), (33.200000000000003, 35.333090593102753), (50.0, 44.795667189645471), (18.399999999999999, 15.149926730834149), (13.1, 19.919801971919195), (20.0, 20.610485251221601), (7.5, 14.115147562633801), (23.300000000000001, 26.368047459158731), (14.5, 18.371478576078125), (31.0, 35.488649029243128), (7.0, 8.0836747469280255), (10.199999999999999, 16.357312903347736), (13.4, 13.593664370349126), (23.100000000000001, 16.862876004619437), (25.0, 22.085487814114419), (34.899999999999999, 34.967758447222977), (19.0, 14.107905456266305), (19.199999999999999, 19.670050372455687), (19.600000000000001, 18.945941203735305), (10.800000000000001, 11.23303835701031), (21.699999999999999, 21.700585052512707), (24.600000000000001, 29.301971589470867), (19.100000000000001, 16.749121536357798), (28.5, 32.803348731966693), (22.199999999999999, 21.506820665332622), (18.899999999999999, 19.085545155637888), (14.4, 4.0713621799232165), (33.0, 23.254574917377322), (26.399999999999999, 22.859624395307815), (35.100000000000001, 35.910625077336611), (22.0, 27.634397645514564), (13.300000000000001, 16.229012647070526), (33.399999999999999, 35.898061490758806), (31.600000000000001, 32.89930251880704), (19.199999999999999, 23.618015016042996), (29.100000000000001, 31.51343929123788), (19.800000000000001, 22.605717609201061), (27.5, 20.389324319756689), (19.5, 18.98799502204837), (36.399999999999999, 33.048371248748055), (50.0, 22.061959666864325), (24.399999999999999, 23.711811478496131), (22.600000000000001, 26.702798175192378), (14.6, 18.890439190555039), (22.300000000000001, 27.214056193931476), (13.199999999999999, 9.330734799279103), (41.700000000000003, 38.900457770073032), (32.700000000000003, 30.63967570533547), (21.5, 20.742897873483571), (16.300000000000001, 11.51371485618259), (14.9, 16.662340638685251), (12.699999999999999, 12.434796584990046), (24.0, 25.400307780530234), (30.100000000000001, 35.536544146312238), (21.899999999999999, 23.073067965470823), (19.5, 18.420637958157293), (23.199999999999999, 22.062472735044999), (18.0, 18.738936983721857), (22.5, 22.388237533477124), (26.600000000000001, 27.988009754852378), (26.600000000000001, 28.270681298615894), (15.6, 15.306643587920682), (32.0, 33.700870022609855), (24.300000000000001, 24.589489228812418), (19.899999999999999, 18.548286469237524), (12.1, 18.04146819196616), (11.800000000000001, 8.7781147490963551), (23.199999999999999, 26.566927338669188), (20.600000000000001, 14.585587542907536), (50.0, 44.825154381371945), (23.300000000000001, 28.45959658130975), (16.199999999999999, 14.688417271483791), (19.899999999999999, 17.042063708534478), (15.4, 17.639923910209873), (18.199999999999999, 18.722420887371612), (22.0, 21.849209586887294), (19.899999999999999, 19.69218885092544), (9.5, 13.393014518614301), (27.5, 11.784310313279695), (23.899999999999999, 26.106495503213363), (50.0, 24.569243386486491), (20.100000000000001, 19.480429579293968), (23.100000000000001, 23.224514769833554), (32.0, 33.817141278889416), (22.5, 18.000671953300341), (13.800000000000001, 5.9567006042002788), (23.0, 29.43431303388456), (21.699999999999999, 21.185793297126292), (17.0, 21.877578983130849), (23.600000000000001, 31.073152306821314), (15.300000000000001, 18.879635036935756), (19.300000000000001, 16.848693152880063), (15.699999999999999, 15.117616543139212), (23.0, 23.319962291393526), (21.399999999999999, 21.395522999372847), (17.5, 18.178549473089987), (23.600000000000001, 29.488243535972089), (22.300000000000001, 26.783922828962893), (22.699999999999999, 24.977684584955199), (14.6, 8.5841059959558077), (18.600000000000001, 15.605122978838232), (19.600000000000001, 17.253994912347853), (15.4, 14.86068980984928), (15.199999999999999, 11.372654062660189), (22.399999999999999, 23.414613355517488), (23.899999999999999, 24.987208887224629), (22.699999999999999, 20.531177741074497), (50.0, 43.639429695792849), (18.699999999999999, 21.025579720155125), (17.100000000000001, 19.720376518382469), (31.199999999999999, 28.071236272013493), (28.199999999999999, 32.7847646492189), (15.1, 16.360865836865976), (10.9, 18.476317142399814), (24.300000000000001, 29.16188903107896), (30.100000000000001, 24.139279126254859), (42.799999999999997, 30.121108225286122)]\n"
     ]
    }
   ],
   "source": [
    "list(zip (y_test, clf.predict(X_test)))\n",
    "print(real_predicted)"
   ]
  },
  {
   "cell_type": "markdown",
   "metadata": {},
   "source": [
    "#### MSE using our known test y values and our predicted y values."
   ]
  },
  {
   "cell_type": "code",
   "execution_count": 9,
   "metadata": {},
   "outputs": [
    {
     "name": "stdout",
     "output_type": "stream",
     "text": [
      "27.9945144707\n"
     ]
    }
   ],
   "source": [
    "y_hat = clf.predict(X_test)\n",
    "mse = mean_squared_error(y_test, y_hat)\n",
    "print(mse)"
   ]
  },
  {
   "cell_type": "markdown",
   "metadata": {},
   "source": [
    "#### RMSE using our MSE value"
   ]
  },
  {
   "cell_type": "code",
   "execution_count": 10,
   "metadata": {},
   "outputs": [
    {
     "name": "stdout",
     "output_type": "stream",
     "text": [
      "5.290984262944279\n"
     ]
    }
   ],
   "source": [
    "rmse = math.sqrt(mse)\n",
    "print(rmse)"
   ]
  },
  {
   "cell_type": "markdown",
   "metadata": {},
   "source": [
    "#### R^2 using our known test y values and our predicted y values."
   ]
  },
  {
   "cell_type": "code",
   "execution_count": 11,
   "metadata": {},
   "outputs": [
    {
     "name": "stdout",
     "output_type": "stream",
     "text": [
      "0.656249304237\n"
     ]
    }
   ],
   "source": [
    "r2 = r2_score(y_test, y_hat)\n",
    "print(r2)"
   ]
  },
  {
   "cell_type": "markdown",
   "metadata": {},
   "source": [
    "## L2 Implementation"
   ]
  },
  {
   "cell_type": "markdown",
   "metadata": {},
   "source": [
    "### Fitting a Lasso"
   ]
  },
  {
   "cell_type": "code",
   "execution_count": 12,
   "metadata": {},
   "outputs": [
    {
     "data": {
      "text/plain": [
       "Lasso(alpha=0.1, copy_X=True, fit_intercept=True, max_iter=1000,\n",
       "   normalize=False, positive=False, precompute=False, random_state=None,\n",
       "   selection='cyclic', tol=0.0001, warm_start=False)"
      ]
     },
     "execution_count": 12,
     "metadata": {},
     "output_type": "execute_result"
    }
   ],
   "source": [
    "clf2 = Lasso(alpha = 0.1)\n",
    "clf2.fit(X_train, y_train)"
   ]
  },
  {
   "cell_type": "markdown",
   "metadata": {},
   "source": [
    "### Making a Prediction using Lasso"
   ]
  },
  {
   "cell_type": "markdown",
   "metadata": {},
   "source": [
    "#### List of real value (y_test) and predicted value tuples. "
   ]
  },
  {
   "cell_type": "code",
   "execution_count": 13,
   "metadata": {
    "scrolled": false
   },
   "outputs": [
    {
     "name": "stdout",
     "output_type": "stream",
     "text": [
      "[(22.0, 21.310542408050694), (18.100000000000001, 18.163108571164486), (18.5, 13.429363538895135), (50.0, 41.580212343434376), (33.299999999999997, 36.41461090114624), (29.399999999999999, 30.561751408770654), (25.0, 26.040944466756564), (19.5, 17.298779277604485), (10.5, 12.461575607356259), (32.899999999999999, 30.704130180052957), (20.100000000000001, 17.427554771167628), (33.200000000000003, 34.547463497046706), (50.0, 43.398262179047848), (18.399999999999999, 16.24939210849422), (13.1, 19.632580230743574), (20.0, 20.321010810736567), (7.5, 14.215351024777327), (23.300000000000001, 25.528515341915163), (14.5, 17.872608164454782), (31.0, 34.688345915333649), (7.0, 10.72915982774842), (10.199999999999999, 15.818463818339765), (13.4, 13.994239414241125), (23.100000000000001, 17.064506111912593), (25.0, 22.409616197159966), (34.899999999999999, 34.78385886971077), (19.0, 14.045240072450213), (19.199999999999999, 20.779410658776758), (19.600000000000001, 20.10175061406612), (10.800000000000001, 11.330862276291466), (21.699999999999999, 21.748869252628236), (24.600000000000001, 28.861472290643217), (19.100000000000001, 16.081144113505538), (28.5, 31.395558755520806), (22.199999999999999, 21.919613355835338), (18.899999999999999, 19.670893968693495), (14.4, 4.7156026874759007), (33.0, 24.419911581017224), (26.399999999999999, 21.789543267981163), (35.100000000000001, 34.450402160727251), (22.0, 27.445428925314545), (13.300000000000001, 15.568106044486573), (33.399999999999999, 34.218060302935214), (31.600000000000001, 32.212442849704878), (19.199999999999999, 23.97014907878031), (29.100000000000001, 31.127586050579097), (19.800000000000001, 22.946205826564118), (27.5, 19.988743423443516), (19.5, 19.024768168817612), (36.399999999999999, 33.542299107921345), (50.0, 20.852679040138717), (24.399999999999999, 24.100064361313965), (22.600000000000001, 25.935931933093826), (14.6, 18.393966551770525), (22.300000000000001, 27.433981113689093), (13.199999999999999, 9.9956393692840617), (41.700000000000003, 38.6962272223249), (32.700000000000003, 31.470167493228551), (21.5, 21.835010517921447), (16.300000000000001, 11.167286061314101), (14.9, 16.844795766798491), (12.699999999999999, 12.582343228378129), (24.0, 24.617277697488827), (30.100000000000001, 34.590171900540739), (21.899999999999999, 23.798434521767074), (19.5, 18.512674007162548), (23.199999999999999, 21.4771411819702), (18.0, 19.737044998792356), (22.5, 22.114359411370604), (26.600000000000001, 27.859804883525854), (26.600000000000001, 28.354196169464554), (15.6, 15.963198260106576), (32.0, 32.683957825060773), (24.300000000000001, 23.795660866630104), (19.899999999999999, 19.119228143373348), (12.1, 17.757797759300338), (11.800000000000001, 9.5604407293589624), (23.199999999999999, 26.016519025168549), (20.600000000000001, 15.961564585134351), (50.0, 44.19938594196725), (23.300000000000001, 28.117925127066663), (16.199999999999999, 15.510650658476742), (19.899999999999999, 16.686681905891859), (15.4, 17.713090692270747), (18.199999999999999, 19.409325692030187), (22.0, 20.853739795212903), (19.899999999999999, 19.139272981495033), (9.5, 13.386056082206871), (27.5, 10.748593801941993), (23.899999999999999, 25.92768010685247), (50.0, 23.698727301977442), (20.100000000000001, 19.825408002840749), (23.100000000000001, 22.405892219997913), (32.0, 33.26374834554538), (22.5, 17.87515147888243), (13.800000000000001, 5.1240425359485187), (23.0, 28.856475916448158), (21.699999999999999, 21.227091184950446), (17.0, 22.967280598083853), (23.600000000000001, 31.198842247350797), (15.300000000000001, 19.611144461526184), (19.300000000000001, 16.347026166447236), (15.699999999999999, 14.002560743460577), (23.0, 23.630101935705195), (21.399999999999999, 20.913221425134711), (17.5, 18.280860654989592), (23.600000000000001, 28.853606513670226), (22.300000000000001, 26.285971185389556), (22.699999999999999, 25.072524629381888), (14.6, 9.4027594417344904), (18.600000000000001, 17.582889278349796), (19.600000000000001, 17.763367750650726), (15.4, 15.866742496473975), (15.199999999999999, 13.982493534844593), (22.399999999999999, 23.803227074820807), (23.899999999999999, 24.922516126307677), (22.699999999999999, 20.646295665433474), (50.0, 41.81127512614767), (18.699999999999999, 21.368491154274793), (17.100000000000001, 20.219597298066727), (31.199999999999999, 28.544688327996408), (28.199999999999999, 31.00439807379103), (15.1, 15.948531910153022), (10.9, 18.252069184739277), (24.300000000000001, 29.059348532664441), (30.100000000000001, 24.406398800176937), (42.799999999999997, 31.464222563383839)]\n"
     ]
    }
   ],
   "source": [
    "real_predicted2 = list(zip (y_test, clf2.predict(X_test)))\n",
    "print(real_predicted2)"
   ]
  },
  {
   "cell_type": "markdown",
   "metadata": {},
   "source": [
    "#### MSE using our known test y values and our predicted y values."
   ]
  },
  {
   "cell_type": "code",
   "execution_count": 25,
   "metadata": {},
   "outputs": [
    {
     "name": "stdout",
     "output_type": "stream",
     "text": [
      "28.2382213692\n"
     ]
    }
   ],
   "source": [
    "y_hat2 = clf2.predict(X_test)\n",
    "mse2 = mean_squared_error(y_test, y_hat2)\n",
    "print(mse2)"
   ]
  },
  {
   "cell_type": "markdown",
   "metadata": {},
   "source": [
    "#### RMSE using our MSE2 value"
   ]
  },
  {
   "cell_type": "code",
   "execution_count": 16,
   "metadata": {},
   "outputs": [
    {
     "name": "stdout",
     "output_type": "stream",
     "text": [
      "5.313964750466217\n"
     ]
    }
   ],
   "source": [
    "rmse2 = math.sqrt(mse2)\n",
    "print(rmse2)"
   ]
  },
  {
   "cell_type": "markdown",
   "metadata": {},
   "source": [
    "#### R^2 using our known test y values and our predicted y values."
   ]
  },
  {
   "cell_type": "code",
   "execution_count": 17,
   "metadata": {},
   "outputs": [
    {
     "name": "stdout",
     "output_type": "stream",
     "text": [
      "0.65325677454\n"
     ]
    }
   ],
   "source": [
    "r2_2 = r2_score(y_test, y_hat2)\n",
    "print(r2_2)"
   ]
  },
  {
   "cell_type": "markdown",
   "metadata": {},
   "source": [
    "## Optimizing the Lasso Regularization Parameter"
   ]
  },
  {
   "cell_type": "markdown",
   "metadata": {},
   "source": [
    "### alpha = 0.1"
   ]
  },
  {
   "cell_type": "code",
   "execution_count": 50,
   "metadata": {},
   "outputs": [
    {
     "data": {
      "text/plain": [
       "Lasso(alpha=0.1, copy_X=True, fit_intercept=True, max_iter=1000,\n",
       "   normalize=False, positive=False, precompute=False, random_state=None,\n",
       "   selection='cyclic', tol=0.0001, warm_start=False)"
      ]
     },
     "execution_count": 50,
     "metadata": {},
     "output_type": "execute_result"
    }
   ],
   "source": [
    "reg = Lasso(alpha = 0.1)\n",
    "reg.fit(X_train, y_train)"
   ]
  },
  {
   "cell_type": "code",
   "execution_count": 51,
   "metadata": {},
   "outputs": [
    {
     "name": "stdout",
     "output_type": "stream",
     "text": [
      "28.2382213692\n"
     ]
    }
   ],
   "source": [
    "y_hat3 = reg.predict(X_test)\n",
    "mse3 = mean_squared_error(y_test, y_hat3)\n",
    "print(mse3)"
   ]
  },
  {
   "cell_type": "code",
   "execution_count": 52,
   "metadata": {},
   "outputs": [
    {
     "name": "stdout",
     "output_type": "stream",
     "text": [
      "5.313964750466217\n"
     ]
    }
   ],
   "source": [
    "rmse3 = math.sqrt(mse3)\n",
    "print(rmse3)"
   ]
  },
  {
   "cell_type": "code",
   "execution_count": 53,
   "metadata": {},
   "outputs": [
    {
     "name": "stdout",
     "output_type": "stream",
     "text": [
      "0.65325677454\n"
     ]
    }
   ],
   "source": [
    "r2_3 = r2_score(y_test, y_hat3)\n",
    "print(r2_3)"
   ]
  },
  {
   "cell_type": "markdown",
   "metadata": {},
   "source": [
    "### alpha = 0.01"
   ]
  },
  {
   "cell_type": "code",
   "execution_count": 54,
   "metadata": {},
   "outputs": [
    {
     "data": {
      "text/plain": [
       "Lasso(alpha=0.01, copy_X=True, fit_intercept=True, max_iter=1000,\n",
       "   normalize=False, positive=False, precompute=False, random_state=None,\n",
       "   selection='cyclic', tol=0.0001, warm_start=False)"
      ]
     },
     "execution_count": 54,
     "metadata": {},
     "output_type": "execute_result"
    }
   ],
   "source": [
    "reg = Lasso(alpha = 0.01)\n",
    "reg.fit(X_train, y_train)"
   ]
  },
  {
   "cell_type": "code",
   "execution_count": 55,
   "metadata": {},
   "outputs": [
    {
     "name": "stdout",
     "output_type": "stream",
     "text": [
      "27.9723748377\n"
     ]
    }
   ],
   "source": [
    "y_hat3 = reg.predict(X_test)\n",
    "mse3 = mean_squared_error(y_test, y_hat3)\n",
    "print(mse3)"
   ]
  },
  {
   "cell_type": "code",
   "execution_count": 56,
   "metadata": {},
   "outputs": [
    {
     "name": "stdout",
     "output_type": "stream",
     "text": [
      "5.288891645490182\n"
     ]
    }
   ],
   "source": [
    "rmse3 = math.sqrt(mse3)\n",
    "print(rmse3)"
   ]
  },
  {
   "cell_type": "code",
   "execution_count": 57,
   "metadata": {},
   "outputs": [
    {
     "name": "stdout",
     "output_type": "stream",
     "text": [
      "0.656521161578\n"
     ]
    }
   ],
   "source": [
    "r2_3 = r2_score(y_test, y_hat3)\n",
    "print(r2_3)"
   ]
  },
  {
   "cell_type": "markdown",
   "metadata": {},
   "source": [
    "### alpha = 0.001"
   ]
  },
  {
   "cell_type": "code",
   "execution_count": 58,
   "metadata": {},
   "outputs": [
    {
     "data": {
      "text/plain": [
       "Lasso(alpha=0.001, copy_X=True, fit_intercept=True, max_iter=1000,\n",
       "   normalize=False, positive=False, precompute=False, random_state=None,\n",
       "   selection='cyclic', tol=0.0001, warm_start=False)"
      ]
     },
     "execution_count": 58,
     "metadata": {},
     "output_type": "execute_result"
    }
   ],
   "source": [
    "reg = Lasso(alpha = 0.001)\n",
    "reg.fit(X_train, y_train)"
   ]
  },
  {
   "cell_type": "code",
   "execution_count": 59,
   "metadata": {},
   "outputs": [
    {
     "name": "stdout",
     "output_type": "stream",
     "text": [
      "27.991686294\n"
     ]
    }
   ],
   "source": [
    "y_hat3 = reg.predict(X_test)\n",
    "mse3 = mean_squared_error(y_test, y_hat3)\n",
    "print(mse3)"
   ]
  },
  {
   "cell_type": "code",
   "execution_count": 60,
   "metadata": {},
   "outputs": [
    {
     "name": "stdout",
     "output_type": "stream",
     "text": [
      "5.290716992434148\n"
     ]
    }
   ],
   "source": [
    "rmse3 = math.sqrt(mse3)\n",
    "print(rmse3)"
   ]
  },
  {
   "cell_type": "code",
   "execution_count": 61,
   "metadata": {},
   "outputs": [
    {
     "name": "stdout",
     "output_type": "stream",
     "text": [
      "0.65628403203\n"
     ]
    }
   ],
   "source": [
    "r2_3 = r2_score(y_test, y_hat3)\n",
    "print(r2_3)"
   ]
  }
 ],
 "metadata": {
  "kernelspec": {
   "display_name": "Python 3",
   "language": "python",
   "name": "python3"
  },
  "language_info": {
   "codemirror_mode": {
    "name": "ipython",
    "version": 3
   },
   "file_extension": ".py",
   "mimetype": "text/x-python",
   "name": "python",
   "nbconvert_exporter": "python",
   "pygments_lexer": "ipython3",
   "version": "3.6.1"
  }
 },
 "nbformat": 4,
 "nbformat_minor": 2
}
